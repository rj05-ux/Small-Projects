{
 "cells": [
  {
   "cell_type": "code",
   "execution_count": 7,
   "id": "6016930c-da68-43ae-aa33-7f3e2de3f13f",
   "metadata": {},
   "outputs": [
    {
     "name": "stdout",
     "output_type": "stream",
     "text": [
      "Generated unique password: 14591e0918bd,;\n"
     ]
    }
   ],
   "source": [
    "import hmac\n",
    "import hashlib\n",
    "import string\n",
    "import random\n",
    "\n",
    "def generate_unique_password(secret, input_string, length=12):\n",
    "    # Combine the secret with the input string to create a unique base string\n",
    "    combined_string = secret.encode('utf-8') + input_string.encode('utf-8')\n",
    "    \n",
    "    # Use HMAC with SHA256 to create a hash\n",
    "    hashed = hmac.new(secret.encode('utf-8'), combined_string, hashlib.sha256).hexdigest()\n",
    "    \n",
    "    # Use the first 'length' characters of the hash to create a password\n",
    "    password = hashed[:length]\n",
    "    \n",
    "    # Optionally add random characters from string.punctuation to increase complexity\n",
    "    additional_chars = ''.join(random.choice(string.punctuation) for i in range(2))  # Add 2 random special chars\n",
    "    password += additional_chars\n",
    "\n",
    "    return password\n",
    "\n",
    "# Define your secret key and input string\n",
    "secret = \"mysecretkey\"\n",
    "input_string = \"uniqueusername\"  # Could be anything like username or a specific date\n",
    "\n",
    "# Generate the password\n",
    "password = generate_unique_password(secret, input_string, length=12)\n",
    "print(\"Generated unique password:\", password)\n"
   ]
  }
 ],
 "metadata": {
  "kernelspec": {
   "display_name": "Python 3 (ipykernel)",
   "language": "python",
   "name": "python3"
  },
  "language_info": {
   "codemirror_mode": {
    "name": "ipython",
    "version": 3
   },
   "file_extension": ".py",
   "mimetype": "text/x-python",
   "name": "python",
   "nbconvert_exporter": "python",
   "pygments_lexer": "ipython3",
   "version": "3.12.4"
  }
 },
 "nbformat": 4,
 "nbformat_minor": 5
}
