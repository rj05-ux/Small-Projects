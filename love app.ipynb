{
 "cells": [
  {
   "cell_type": "code",
   "execution_count": 11,
   "id": "4e3e5621-b702-42db-912c-c358dabd1f81",
   "metadata": {},
   "outputs": [],
   "source": [
    "# Python Tkinter GUI based \"LOVE CALCULATOR\"\n",
    "\n",
    "# import tkinter\n",
    "from tkinter import *\n",
    "# import random module\n",
    "import random\n",
    "# Creating GUI window\n",
    "root = Tk()\n",
    "# Defining the container size, width=400, height=240\n",
    "root.geometry('400x240')\n",
    "# Title of the container\n",
    "root.title('Love Calculator????')\n",
    "\n",
    "# Function to calculate love percentage\n",
    "# between the user ans partner\n",
    "\n",
    "\n",
    "def calculate_love():\n",
    "\t# value will contain digits between 0-9\n",
    "\tst = '0123456789'\n",
    "\t# result will be in double digits\n",
    "\tdigit = 2\n",
    "\ttemp = \"\".join(random.sample(st, digit))\n",
    "\tresult.config(text=temp)\n",
    "\n",
    "\n",
    "# Heading on Top\n",
    "heading = Label(root, text='Love Calculator - How much is he/she into you')\n",
    "heading.pack()\n",
    "\n",
    "# Slot/input for the first name\n",
    "slot1 = Label(root, text=\"Enter Your Name:\")\n",
    "slot1.pack()\n",
    "name1 = Entry(root, border=5)\n",
    "name1.pack()\n",
    "\n",
    "# Slot/input for the partner name\n",
    "slot2 = Label(root, text=\"Enter Your Partner Name:\")\n",
    "slot2.pack()\n",
    "name2 = Entry(root, border=5)\n",
    "name2.pack()\n",
    "\n",
    "bt = Button(root, text=\"Calculate\", height=1,\n",
    "\t\t\twidth=7, command=calculate_love)\n",
    "bt.pack()\n",
    "\n",
    "# Text on result slot\n",
    "result = Label(root, text='Love Percentage between both of You:')\n",
    "result.pack()\n",
    "\n",
    "# Starting the GUI\n",
    "root.mainloop()\n"
   ]
  },
  {
   "cell_type": "code",
   "execution_count": null,
   "id": "8fd0f3d3-f7d6-4956-b90a-57c0eeea1eea",
   "metadata": {},
   "outputs": [],
   "source": []
  },
  {
   "cell_type": "code",
   "execution_count": null,
   "id": "31030359-6675-4171-8992-7b8b6fc7f231",
   "metadata": {},
   "outputs": [],
   "source": []
  }
 ],
 "metadata": {
  "kernelspec": {
   "display_name": "Python 3 (ipykernel)",
   "language": "python",
   "name": "python3"
  },
  "language_info": {
   "codemirror_mode": {
    "name": "ipython",
    "version": 3
   },
   "file_extension": ".py",
   "mimetype": "text/x-python",
   "name": "python",
   "nbconvert_exporter": "python",
   "pygments_lexer": "ipython3",
   "version": "3.12.4"
  }
 },
 "nbformat": 4,
 "nbformat_minor": 5
}
