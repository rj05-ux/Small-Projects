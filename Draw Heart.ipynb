{
 "cells": [
  {
   "cell_type": "code",
   "execution_count": 3,
   "id": "cc3fbaae-ffcb-436e-b329-750917236add",
   "metadata": {},
   "outputs": [],
   "source": [
    "import turtle\n",
    "\n",
    "# Set up the screen\n",
    "screen = turtle.Screen()\n",
    "screen.bgcolor(\"white\")\n",
    "\n",
    "# Create turtle object\n",
    "pen = turtle.Turtle()\n",
    "pen.fillcolor(\"red\")\n",
    "pen.begin_fill()\n",
    "\n",
    "# Draw the heart shape\n",
    "pen.left(50)\n",
    "pen.forward(133)\n",
    "pen.circle(50, 200)\n",
    "pen.right(140)\n",
    "pen.circle(50, 200)\n",
    "pen.forward(133)\n",
    "\n",
    "pen.end_fill()\n",
    "\n",
    "# Hide the turtle and display the screen\n",
    "pen.hideturtle()\n",
    "turtle.done()\n"
   ]
  }
 ],
 "metadata": {
  "kernelspec": {
   "display_name": "Python 3 (ipykernel)",
   "language": "python",
   "name": "python3"
  },
  "language_info": {
   "codemirror_mode": {
    "name": "ipython",
    "version": 3
   },
   "file_extension": ".py",
   "mimetype": "text/x-python",
   "name": "python",
   "nbconvert_exporter": "python",
   "pygments_lexer": "ipython3",
   "version": "3.12.4"
  }
 },
 "nbformat": 4,
 "nbformat_minor": 5
}
